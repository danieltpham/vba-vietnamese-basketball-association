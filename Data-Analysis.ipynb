{
 "cells": [
  {
   "cell_type": "markdown",
   "metadata": {},
   "source": [
    "# 1. Set Up"
   ]
  },
  {
   "cell_type": "code",
   "execution_count": 1,
   "metadata": {},
   "outputs": [],
   "source": [
    "sp <- suppressPackageStartupMessages\n",
    "sp(library(ggbiplot))\n",
    "sp(library(dplyr))\n",
    "sp(library(magrittr))\n",
    "sp(library(tidyverse))\n",
    "sp(library(gridExtra))"
   ]
  },
  {
   "cell_type": "code",
   "execution_count": 2,
   "metadata": {},
   "outputs": [
    {
     "data": {
      "text/html": [
       "<table>\n",
       "<thead><tr><th scope=col>X.x</th><th scope=col>teamID</th><th scope=col>year</th><th scope=col>first_middle</th><th scope=col>last</th><th scope=col>pos1</th><th scope=col>pos2</th><th scope=col>nat</th><th scope=col>height_cm</th><th scope=col>no</th><th scope=col>...</th><th scope=col>factor</th><th scope=col>VOP</th><th scope=col>DRB</th><th scope=col>tAST</th><th scope=col>tFGM</th><th scope=col>tPACE</th><th scope=col>PER</th><th scope=col>lgPER</th><th scope=col>lgPACE</th><th scope=col>aPER</th></tr></thead>\n",
       "<tbody>\n",
       "\t<tr><td>0         </td><td>CTC       </td><td>2017      </td><td>Le        </td><td>Nguycn    </td><td>C         </td><td>          </td><td>Vietnam   </td><td> NA       </td><td> 3        </td><td>...       </td><td>0.600327  </td><td>0.8322544 </td><td>0.720865  </td><td>21.78571  </td><td>31.92857  </td><td>89.27824  </td><td> 2.7097793</td><td>3.873212  </td><td>86.99707  </td><td>10.226168 </td></tr>\n",
       "\t<tr><td>1         </td><td>CTC       </td><td>2017      </td><td>Thanh     </td><td>Hucnh     </td><td>          </td><td>          </td><td>Vietnam   </td><td> NA       </td><td> 4        </td><td>...       </td><td>0.600327  </td><td>0.8322544 </td><td>0.720865  </td><td>21.78571  </td><td>31.92857  </td><td>89.27824  </td><td> 1.2909035</td><td>3.873212  </td><td>86.99707  </td><td> 4.871613 </td></tr>\n",
       "\t<tr><td>2         </td><td>CTC       </td><td>2017      </td><td>Nguycn    </td><td>Hoang     </td><td>          </td><td>          </td><td>Vietnam   </td><td> NA       </td><td> 6        </td><td>...       </td><td>0.600327  </td><td>0.8322544 </td><td>0.720865  </td><td>21.78571  </td><td>31.92857  </td><td>89.27824  </td><td> 0.5279444</td><td>3.873212  </td><td>86.99707  </td><td> 1.992357 </td></tr>\n",
       "\t<tr><td>3         </td><td>CTC       </td><td>2017      </td><td>Du-Minh   </td><td>An        </td><td>G         </td><td>F         </td><td>Vietnam   </td><td>180       </td><td> 7        </td><td>...       </td><td>0.600327  </td><td>0.8322544 </td><td>0.720865  </td><td>21.78571  </td><td>31.92857  </td><td>89.27824  </td><td> 1.2881894</td><td>3.873212  </td><td>86.99707  </td><td> 4.861371 </td></tr>\n",
       "\t<tr><td>4         </td><td>CTC       </td><td>2017      </td><td>Ngcc      </td><td>Nguycn    </td><td>          </td><td>          </td><td>Vietnam   </td><td> NA       </td><td> 8        </td><td>...       </td><td>0.600327  </td><td>0.8322544 </td><td>0.720865  </td><td>21.78571  </td><td>31.92857  </td><td>89.27824  </td><td> 1.3980769</td><td>3.873212  </td><td>86.99707  </td><td> 5.276064 </td></tr>\n",
       "\t<tr><td>5         </td><td>CTC       </td><td>2017      </td><td>Thanh     </td><td>Dinh      </td><td>          </td><td>          </td><td>Vietnam   </td><td> NA       </td><td>11        </td><td>...       </td><td>0.600327  </td><td>0.8322544 </td><td>0.720865  </td><td>21.78571  </td><td>31.92857  </td><td>89.27824  </td><td>11.8048814</td><td>3.873212  </td><td>86.99707  </td><td>44.549273 </td></tr>\n",
       "</tbody>\n",
       "</table>\n"
      ],
      "text/latex": [
       "\\begin{tabular}{r|lllllllllllllllllllllllllllllllllllllllllll}\n",
       " X.x & teamID & year & first\\_middle & last & pos1 & pos2 & nat & height\\_cm & no & ... & factor & VOP & DRB & tAST & tFGM & tPACE & PER & lgPER & lgPACE & aPER\\\\\n",
       "\\hline\n",
       "\t 0          & CTC        & 2017       & Le         & Nguycn     & C          &            & Vietnam    &  NA        &  3         & ...        & 0.600327   & 0.8322544  & 0.720865   & 21.78571   & 31.92857   & 89.27824   &  2.7097793 & 3.873212   & 86.99707   & 10.226168 \\\\\n",
       "\t 1          & CTC        & 2017       & Thanh      & Hucnh      &            &            & Vietnam    &  NA        &  4         & ...        & 0.600327   & 0.8322544  & 0.720865   & 21.78571   & 31.92857   & 89.27824   &  1.2909035 & 3.873212   & 86.99707   &  4.871613 \\\\\n",
       "\t 2          & CTC        & 2017       & Nguycn     & Hoang      &            &            & Vietnam    &  NA        &  6         & ...        & 0.600327   & 0.8322544  & 0.720865   & 21.78571   & 31.92857   & 89.27824   &  0.5279444 & 3.873212   & 86.99707   &  1.992357 \\\\\n",
       "\t 3          & CTC        & 2017       & Du-Minh    & An         & G          & F          & Vietnam    & 180        &  7         & ...        & 0.600327   & 0.8322544  & 0.720865   & 21.78571   & 31.92857   & 89.27824   &  1.2881894 & 3.873212   & 86.99707   &  4.861371 \\\\\n",
       "\t 4          & CTC        & 2017       & Ngcc       & Nguycn     &            &            & Vietnam    &  NA        &  8         & ...        & 0.600327   & 0.8322544  & 0.720865   & 21.78571   & 31.92857   & 89.27824   &  1.3980769 & 3.873212   & 86.99707   &  5.276064 \\\\\n",
       "\t 5          & CTC        & 2017       & Thanh      & Dinh       &            &            & Vietnam    &  NA        & 11         & ...        & 0.600327   & 0.8322544  & 0.720865   & 21.78571   & 31.92857   & 89.27824   & 11.8048814 & 3.873212   & 86.99707   & 44.549273 \\\\\n",
       "\\end{tabular}\n"
      ],
      "text/markdown": [
       "\n",
       "| X.x | teamID | year | first_middle | last | pos1 | pos2 | nat | height_cm | no | ... | factor | VOP | DRB | tAST | tFGM | tPACE | PER | lgPER | lgPACE | aPER |\n",
       "|---|---|---|---|---|---|---|---|---|---|---|---|---|---|---|---|---|---|---|---|---|\n",
       "| 0          | CTC        | 2017       | Le         | Nguycn     | C          |            | Vietnam    |  NA        |  3         | ...        | 0.600327   | 0.8322544  | 0.720865   | 21.78571   | 31.92857   | 89.27824   |  2.7097793 | 3.873212   | 86.99707   | 10.226168  |\n",
       "| 1          | CTC        | 2017       | Thanh      | Hucnh      |            |            | Vietnam    |  NA        |  4         | ...        | 0.600327   | 0.8322544  | 0.720865   | 21.78571   | 31.92857   | 89.27824   |  1.2909035 | 3.873212   | 86.99707   |  4.871613  |\n",
       "| 2          | CTC        | 2017       | Nguycn     | Hoang      |            |            | Vietnam    |  NA        |  6         | ...        | 0.600327   | 0.8322544  | 0.720865   | 21.78571   | 31.92857   | 89.27824   |  0.5279444 | 3.873212   | 86.99707   |  1.992357  |\n",
       "| 3          | CTC        | 2017       | Du-Minh    | An         | G          | F          | Vietnam    | 180        |  7         | ...        | 0.600327   | 0.8322544  | 0.720865   | 21.78571   | 31.92857   | 89.27824   |  1.2881894 | 3.873212   | 86.99707   |  4.861371  |\n",
       "| 4          | CTC        | 2017       | Ngcc       | Nguycn     |            |            | Vietnam    |  NA        |  8         | ...        | 0.600327   | 0.8322544  | 0.720865   | 21.78571   | 31.92857   | 89.27824   |  1.3980769 | 3.873212   | 86.99707   |  5.276064  |\n",
       "| 5          | CTC        | 2017       | Thanh      | Dinh       |            |            | Vietnam    |  NA        | 11         | ...        | 0.600327   | 0.8322544  | 0.720865   | 21.78571   | 31.92857   | 89.27824   | 11.8048814 | 3.873212   | 86.99707   | 44.549273  |\n",
       "\n"
      ],
      "text/plain": [
       "  X.x teamID year first_middle last   pos1 pos2 nat     height_cm no ...\n",
       "1 0   CTC    2017 Le           Nguycn C         Vietnam  NA        3 ...\n",
       "2 1   CTC    2017 Thanh        Hucnh            Vietnam  NA        4 ...\n",
       "3 2   CTC    2017 Nguycn       Hoang            Vietnam  NA        6 ...\n",
       "4 3   CTC    2017 Du-Minh      An     G    F    Vietnam 180        7 ...\n",
       "5 4   CTC    2017 Ngcc         Nguycn           Vietnam  NA        8 ...\n",
       "6 5   CTC    2017 Thanh        Dinh             Vietnam  NA       11 ...\n",
       "  factor   VOP       DRB      tAST     tFGM     tPACE    PER        lgPER   \n",
       "1 0.600327 0.8322544 0.720865 21.78571 31.92857 89.27824  2.7097793 3.873212\n",
       "2 0.600327 0.8322544 0.720865 21.78571 31.92857 89.27824  1.2909035 3.873212\n",
       "3 0.600327 0.8322544 0.720865 21.78571 31.92857 89.27824  0.5279444 3.873212\n",
       "4 0.600327 0.8322544 0.720865 21.78571 31.92857 89.27824  1.2881894 3.873212\n",
       "5 0.600327 0.8322544 0.720865 21.78571 31.92857 89.27824  1.3980769 3.873212\n",
       "6 0.600327 0.8322544 0.720865 21.78571 31.92857 89.27824 11.8048814 3.873212\n",
       "  lgPACE   aPER     \n",
       "1 86.99707 10.226168\n",
       "2 86.99707  4.871613\n",
       "3 86.99707  1.992357\n",
       "4 86.99707  4.861371\n",
       "5 86.99707  5.276064\n",
       "6 86.99707 44.549273"
      ]
     },
     "metadata": {},
     "output_type": "display_data"
    }
   ],
   "source": [
    "df_player <- read.csv(\"playerData.csv\", sep = \",\")\n",
    "df_team <- read.csv(\"teamData.csv\", sep = \",\")\n",
    "df_profile <- read.csv(\"player_profile.csv\", sep = \",\")\n",
    "colnames(df_player)[colnames(df_player)==\"X.\"] <- \"no\"\n",
    "colnames(df_profile)[colnames(df_profile)==\"X.\"] <- \"no\"\n",
    "\n",
    "# Create working df\n",
    "df <- inner_join(df_profile, df_player, by = c(\"teamID\",\"no\",\"year\"))\n",
    "head(df)"
   ]
  },
  {
   "cell_type": "markdown",
   "metadata": {},
   "source": [
    "# 2. Preparing DFs for Classification"
   ]
  },
  {
   "cell_type": "code",
   "execution_count": 3,
   "metadata": {
    "scrolled": false
   },
   "outputs": [],
   "source": [
    "# Numerical vectors\n",
    "stats <- c('fgm','fga', 'x3pm', 'x3pa', 'ftm', 'fta', 'oreb', 'dreb', 'ast', 'stl', 'blk', 'tov', 'pf', 'pts')\n",
    "adv <- c('aRat', 'tRat','ts','eFG', 'aPER')"
   ]
  },
  {
   "cell_type": "code",
   "execution_count": 4,
   "metadata": {},
   "outputs": [
    {
     "data": {
      "text/html": [
       "<table>\n",
       "<thead><tr><th scope=col>X.x</th><th scope=col>teamID</th><th scope=col>year</th><th scope=col>first_middle</th><th scope=col>last</th><th scope=col>pos1</th><th scope=col>pos2</th><th scope=col>nat</th><th scope=col>height_cm</th><th scope=col>no</th><th scope=col>...</th><th scope=col>VOP</th><th scope=col>DRB</th><th scope=col>tAST</th><th scope=col>tFGM</th><th scope=col>tPACE</th><th scope=col>PER</th><th scope=col>lgPER</th><th scope=col>lgPACE</th><th scope=col>aPER</th><th scope=col>label</th></tr></thead>\n",
       "<tbody>\n",
       "\t<tr><td>0         </td><td>CTC       </td><td>2017      </td><td>Le        </td><td>Nguycn    </td><td>C         </td><td>          </td><td>Vietnam   </td><td> NA       </td><td> 3        </td><td>...       </td><td>0.8322544 </td><td>0.720865  </td><td>21.78571  </td><td>31.92857  </td><td>89.27824  </td><td> 2.7097793</td><td>3.873212  </td><td>86.99707  </td><td>10.226168 </td><td>Local     </td></tr>\n",
       "\t<tr><td>1         </td><td>CTC       </td><td>2017      </td><td>Thanh     </td><td>Hucnh     </td><td>          </td><td>          </td><td>Vietnam   </td><td> NA       </td><td> 4        </td><td>...       </td><td>0.8322544 </td><td>0.720865  </td><td>21.78571  </td><td>31.92857  </td><td>89.27824  </td><td> 1.2909035</td><td>3.873212  </td><td>86.99707  </td><td> 4.871613 </td><td>Local     </td></tr>\n",
       "\t<tr><td>2         </td><td>CTC       </td><td>2017      </td><td>Nguycn    </td><td>Hoang     </td><td>          </td><td>          </td><td>Vietnam   </td><td> NA       </td><td> 6        </td><td>...       </td><td>0.8322544 </td><td>0.720865  </td><td>21.78571  </td><td>31.92857  </td><td>89.27824  </td><td> 0.5279444</td><td>3.873212  </td><td>86.99707  </td><td> 1.992357 </td><td>Local     </td></tr>\n",
       "\t<tr><td>3         </td><td>CTC       </td><td>2017      </td><td>Du-Minh   </td><td>An        </td><td>G         </td><td>F         </td><td>Vietnam   </td><td>180       </td><td> 7        </td><td>...       </td><td>0.8322544 </td><td>0.720865  </td><td>21.78571  </td><td>31.92857  </td><td>89.27824  </td><td> 1.2881894</td><td>3.873212  </td><td>86.99707  </td><td> 4.861371 </td><td>Local     </td></tr>\n",
       "\t<tr><td>4         </td><td>CTC       </td><td>2017      </td><td>Ngcc      </td><td>Nguycn    </td><td>          </td><td>          </td><td>Vietnam   </td><td> NA       </td><td> 8        </td><td>...       </td><td>0.8322544 </td><td>0.720865  </td><td>21.78571  </td><td>31.92857  </td><td>89.27824  </td><td> 1.3980769</td><td>3.873212  </td><td>86.99707  </td><td> 5.276064 </td><td>Local     </td></tr>\n",
       "\t<tr><td>5         </td><td>CTC       </td><td>2017      </td><td>Thanh     </td><td>Dinh      </td><td>          </td><td>          </td><td>Vietnam   </td><td> NA       </td><td>11        </td><td>...       </td><td>0.8322544 </td><td>0.720865  </td><td>21.78571  </td><td>31.92857  </td><td>89.27824  </td><td>11.8048814</td><td>3.873212  </td><td>86.99707  </td><td>44.549273 </td><td>Local     </td></tr>\n",
       "</tbody>\n",
       "</table>\n"
      ],
      "text/latex": [
       "\\begin{tabular}{r|llllllllllllllllllllllllllllllllllllllllllll}\n",
       " X.x & teamID & year & first\\_middle & last & pos1 & pos2 & nat & height\\_cm & no & ... & VOP & DRB & tAST & tFGM & tPACE & PER & lgPER & lgPACE & aPER & label\\\\\n",
       "\\hline\n",
       "\t 0          & CTC        & 2017       & Le         & Nguycn     & C          &            & Vietnam    &  NA        &  3         & ...        & 0.8322544  & 0.720865   & 21.78571   & 31.92857   & 89.27824   &  2.7097793 & 3.873212   & 86.99707   & 10.226168  & Local     \\\\\n",
       "\t 1          & CTC        & 2017       & Thanh      & Hucnh      &            &            & Vietnam    &  NA        &  4         & ...        & 0.8322544  & 0.720865   & 21.78571   & 31.92857   & 89.27824   &  1.2909035 & 3.873212   & 86.99707   &  4.871613  & Local     \\\\\n",
       "\t 2          & CTC        & 2017       & Nguycn     & Hoang      &            &            & Vietnam    &  NA        &  6         & ...        & 0.8322544  & 0.720865   & 21.78571   & 31.92857   & 89.27824   &  0.5279444 & 3.873212   & 86.99707   &  1.992357  & Local     \\\\\n",
       "\t 3          & CTC        & 2017       & Du-Minh    & An         & G          & F          & Vietnam    & 180        &  7         & ...        & 0.8322544  & 0.720865   & 21.78571   & 31.92857   & 89.27824   &  1.2881894 & 3.873212   & 86.99707   &  4.861371  & Local     \\\\\n",
       "\t 4          & CTC        & 2017       & Ngcc       & Nguycn     &            &            & Vietnam    &  NA        &  8         & ...        & 0.8322544  & 0.720865   & 21.78571   & 31.92857   & 89.27824   &  1.3980769 & 3.873212   & 86.99707   &  5.276064  & Local     \\\\\n",
       "\t 5          & CTC        & 2017       & Thanh      & Dinh       &            &            & Vietnam    &  NA        & 11         & ...        & 0.8322544  & 0.720865   & 21.78571   & 31.92857   & 89.27824   & 11.8048814 & 3.873212   & 86.99707   & 44.549273  & Local     \\\\\n",
       "\\end{tabular}\n"
      ],
      "text/markdown": [
       "\n",
       "| X.x | teamID | year | first_middle | last | pos1 | pos2 | nat | height_cm | no | ... | VOP | DRB | tAST | tFGM | tPACE | PER | lgPER | lgPACE | aPER | label |\n",
       "|---|---|---|---|---|---|---|---|---|---|---|---|---|---|---|---|---|---|---|---|---|\n",
       "| 0          | CTC        | 2017       | Le         | Nguycn     | C          |            | Vietnam    |  NA        |  3         | ...        | 0.8322544  | 0.720865   | 21.78571   | 31.92857   | 89.27824   |  2.7097793 | 3.873212   | 86.99707   | 10.226168  | Local      |\n",
       "| 1          | CTC        | 2017       | Thanh      | Hucnh      |            |            | Vietnam    |  NA        |  4         | ...        | 0.8322544  | 0.720865   | 21.78571   | 31.92857   | 89.27824   |  1.2909035 | 3.873212   | 86.99707   |  4.871613  | Local      |\n",
       "| 2          | CTC        | 2017       | Nguycn     | Hoang      |            |            | Vietnam    |  NA        |  6         | ...        | 0.8322544  | 0.720865   | 21.78571   | 31.92857   | 89.27824   |  0.5279444 | 3.873212   | 86.99707   |  1.992357  | Local      |\n",
       "| 3          | CTC        | 2017       | Du-Minh    | An         | G          | F          | Vietnam    | 180        |  7         | ...        | 0.8322544  | 0.720865   | 21.78571   | 31.92857   | 89.27824   |  1.2881894 | 3.873212   | 86.99707   |  4.861371  | Local      |\n",
       "| 4          | CTC        | 2017       | Ngcc       | Nguycn     |            |            | Vietnam    |  NA        |  8         | ...        | 0.8322544  | 0.720865   | 21.78571   | 31.92857   | 89.27824   |  1.3980769 | 3.873212   | 86.99707   |  5.276064  | Local      |\n",
       "| 5          | CTC        | 2017       | Thanh      | Dinh       |            |            | Vietnam    |  NA        | 11         | ...        | 0.8322544  | 0.720865   | 21.78571   | 31.92857   | 89.27824   | 11.8048814 | 3.873212   | 86.99707   | 44.549273  | Local      |\n",
       "\n"
      ],
      "text/plain": [
       "  X.x teamID year first_middle last   pos1 pos2 nat     height_cm no ...\n",
       "1 0   CTC    2017 Le           Nguycn C         Vietnam  NA        3 ...\n",
       "2 1   CTC    2017 Thanh        Hucnh            Vietnam  NA        4 ...\n",
       "3 2   CTC    2017 Nguycn       Hoang            Vietnam  NA        6 ...\n",
       "4 3   CTC    2017 Du-Minh      An     G    F    Vietnam 180        7 ...\n",
       "5 4   CTC    2017 Ngcc         Nguycn           Vietnam  NA        8 ...\n",
       "6 5   CTC    2017 Thanh        Dinh             Vietnam  NA       11 ...\n",
       "  VOP       DRB      tAST     tFGM     tPACE    PER        lgPER    lgPACE  \n",
       "1 0.8322544 0.720865 21.78571 31.92857 89.27824  2.7097793 3.873212 86.99707\n",
       "2 0.8322544 0.720865 21.78571 31.92857 89.27824  1.2909035 3.873212 86.99707\n",
       "3 0.8322544 0.720865 21.78571 31.92857 89.27824  0.5279444 3.873212 86.99707\n",
       "4 0.8322544 0.720865 21.78571 31.92857 89.27824  1.2881894 3.873212 86.99707\n",
       "5 0.8322544 0.720865 21.78571 31.92857 89.27824  1.3980769 3.873212 86.99707\n",
       "6 0.8322544 0.720865 21.78571 31.92857 89.27824 11.8048814 3.873212 86.99707\n",
       "  aPER      label\n",
       "1 10.226168 Local\n",
       "2  4.871613 Local\n",
       "3  1.992357 Local\n",
       "4  4.861371 Local\n",
       "5  5.276064 Local\n",
       "6 44.549273 Local"
      ]
     },
     "metadata": {},
     "output_type": "display_data"
    }
   ],
   "source": [
    "# Create Nationality Binary Labels\n",
    "df[\"label\"] <- ifelse(df[\"nat\"]==\"Vietnam\",\"Local\",\"Foreign\")\n",
    "head(df)"
   ]
  },
  {
   "cell_type": "markdown",
   "metadata": {},
   "source": [
    "# 3. Graphical K-Mean Labeling for 2019 subset"
   ]
  },
  {
   "cell_type": "code",
   "execution_count": 5,
   "metadata": {},
   "outputs": [
    {
     "data": {
      "image/png": "[encoded data removed]",
      "text/plain": [
       "plot without title"
      ]
     },
     "metadata": {},
     "output_type": "display_data"
    }
   ],
   "source": [
    "test <- subset(df, year==2019)\n",
    "df19 <- test\n",
    "\n",
    "# Plot 1 (showing PCA)\n",
    "player.pca <- prcomp(df19[,stats],center = TRUE, scale. = TRUE)\n",
    "p1 <- ggbiplot(player.pca,ellipse=FALSE,var.axes=TRUE) +\n",
    "    ggtitle(\"PCA\")\n",
    "\n",
    "# Plot 2 (by team)\n",
    "p2 <- ggbiplot(player.pca,ellipse=FALSE,labels=df19$no,groups=df19$team,var.axes=FALSE) +\n",
    "    ggtitle(\"Grouped by team\")\n",
    "\n",
    "# Plot 3 (2-mean)\n",
    "set.seed(50)\n",
    "player.cluster <- kmeans(df19[,stats], 2)\n",
    "df19$clusters <- as.factor(player.cluster$cluster)\n",
    "p3 <- ggbiplot(player.pca,ellipse=FALSE,labels=df19$no,groups=df19$clusters,var.axes=FALSE) +\n",
    "    ggtitle(\"2-means clustering\")\n",
    "\n",
    "# Plot 4 (by nationality)\n",
    "p4 <- ggbiplot(player.pca,ellipse=FALSE,labels=df19$no,groups=df19$label,var.axes=FALSE) +\n",
    "    ggtitle(\"Grouped by nationality\")\n",
    "\n",
    "# Plot all\n",
    "grid.arrange(p1,p2,p3,p4,nrow=2,ncol=2)"
   ]
  },
  {
   "cell_type": "markdown",
   "metadata": {},
   "source": [
    "# 4. Decision Tree"
   ]
  },
  {
   "cell_type": "code",
   "execution_count": 6,
   "metadata": {},
   "outputs": [
    {
     "name": "stdout",
     "output_type": "stream",
     "text": [
      "[1] \"Feature importance vector:\"\n"
     ]
    },
    {
     "data": {
      "text/html": [
       "<dl class=dl-horizontal>\n",
       "\t<dt>ftm</dt>\n",
       "\t\t<dd>18.5508059571108</dd>\n",
       "\t<dt>fta</dt>\n",
       "\t\t<dd>16.182617962586</dd>\n",
       "\t<dt>pts</dt>\n",
       "\t\t<dd>14.9985239653236</dd>\n",
       "\t<dt>fga</dt>\n",
       "\t\t<dd>14.3954234288606</dd>\n",
       "\t<dt>fgm</dt>\n",
       "\t\t<dd>14.3954234288606</dd>\n",
       "\t<dt>dreb</dt>\n",
       "\t\t<dd>10.2400409006104</dd>\n",
       "\t<dt>oreb</dt>\n",
       "\t\t<dd>5.22894114719422</dd>\n",
       "\t<dt>tov</dt>\n",
       "\t\t<dd>1.16198692159872</dd>\n",
       "\t<dt>x3pm</dt>\n",
       "\t\t<dd>0.580993460799359</dd>\n",
       "</dl>\n"
      ],
      "text/latex": [
       "\\begin{description*}\n",
       "\\item[ftm] 18.5508059571108\n",
       "\\item[fta] 16.182617962586\n",
       "\\item[pts] 14.9985239653236\n",
       "\\item[fga] 14.3954234288606\n",
       "\\item[fgm] 14.3954234288606\n",
       "\\item[dreb] 10.2400409006104\n",
       "\\item[oreb] 5.22894114719422\n",
       "\\item[tov] 1.16198692159872\n",
       "\\item[x3pm] 0.580993460799359\n",
       "\\end{description*}\n"
      ],
      "text/markdown": [
       "ftm\n",
       ":   18.5508059571108fta\n",
       ":   16.182617962586pts\n",
       ":   14.9985239653236fga\n",
       ":   14.3954234288606fgm\n",
       ":   14.3954234288606dreb\n",
       ":   10.2400409006104oreb\n",
       ":   5.22894114719422tov\n",
       ":   1.16198692159872x3pm\n",
       ":   0.580993460799359\n",
       "\n"
      ],
      "text/plain": [
       "       ftm        fta        pts        fga        fgm       dreb       oreb \n",
       "18.5508060 16.1826180 14.9985240 14.3954234 14.3954234 10.2400409  5.2289411 \n",
       "       tov       x3pm \n",
       " 1.1619869  0.5809935 "
      ]
     },
     "metadata": {},
     "output_type": "display_data"
    },
    {
     "data": {
      "text/plain": [
       "         treepred\n",
       "          Foreign Local\n",
       "  Foreign      10     3\n",
       "  Local        11    57"
      ]
     },
     "metadata": {},
     "output_type": "display_data"
    },
    {
     "name": "stdout",
     "output_type": "stream",
     "text": [
      "[1] \"Accuracy for test: 0.827160493827161\"\n"
     ]
    }
   ],
   "source": [
    "# Import Library\n",
    "library(rpart)\n",
    "\n",
    "# Create Train set from 2017 & 2018\n",
    "train <- subset(df,year==2017|year==2018)\n",
    "model <- paste(\"label ~ \", paste(stats, collapse= \"+\"))\n",
    "\n",
    "# Fit model, predicting 'label' from all basic stats\n",
    "tree.fit <- rpart(model, data = train, method = 'class')\n",
    "print('Feature importance vector:')\n",
    "tree.fit$variable.importance\n",
    "\n",
    "# Prediction\n",
    "treepred <- predict(tree.fit,test,type='class')\n",
    "\n",
    "# Accuracy Score\n",
    "tree.mat <- table(test$label, treepred)\n",
    "tree.mat\n",
    "tree.acc <- sum(diag(tree.mat)) / sum(tree.mat)\n",
    "print(paste('Accuracy for test:', tree.acc))"
   ]
  },
  {
   "cell_type": "markdown",
   "metadata": {},
   "source": [
    "# 5. Gradient Boosting"
   ]
  },
  {
   "cell_type": "code",
   "execution_count": 7,
   "metadata": {},
   "outputs": [
    {
     "name": "stdout",
     "output_type": "stream",
     "text": [
      "[1] \"Feature importance vector:\"\n"
     ]
    },
    {
     "data": {
      "text/html": [
       "<table>\n",
       "<thead><tr><th scope=col>Feature</th><th scope=col>Gain</th><th scope=col>Cover</th><th scope=col>Frequency</th></tr></thead>\n",
       "<tbody>\n",
       "\t<tr><td>ftm        </td><td>0.415249671</td><td>0.255842656</td><td>0.16666667 </td></tr>\n",
       "\t<tr><td>oreb       </td><td>0.126631588</td><td>0.193588935</td><td>0.14197531 </td></tr>\n",
       "\t<tr><td>blk        </td><td>0.119155060</td><td>0.102190535</td><td>0.06790123 </td></tr>\n",
       "\t<tr><td>stl        </td><td>0.112315394</td><td>0.110436504</td><td>0.12962963 </td></tr>\n",
       "\t<tr><td>fga        </td><td>0.047361285</td><td>0.076573776</td><td>0.09876543 </td></tr>\n",
       "\t<tr><td>ast        </td><td>0.040062965</td><td>0.098200722</td><td>0.08024691 </td></tr>\n",
       "\t<tr><td>pts        </td><td>0.034931260</td><td>0.030866949</td><td>0.04938272 </td></tr>\n",
       "\t<tr><td>tov        </td><td>0.029851156</td><td>0.039320964</td><td>0.06790123 </td></tr>\n",
       "\t<tr><td>x3pm       </td><td>0.024529029</td><td>0.018079036</td><td>0.04320988 </td></tr>\n",
       "\t<tr><td>pf         </td><td>0.018791296</td><td>0.024420565</td><td>0.03703704 </td></tr>\n",
       "\t<tr><td>x3pa       </td><td>0.010497981</td><td>0.010678985</td><td>0.01851852 </td></tr>\n",
       "\t<tr><td>fgm        </td><td>0.007862143</td><td>0.014917804</td><td>0.04320988 </td></tr>\n",
       "\t<tr><td>fta        </td><td>0.006992714</td><td>0.016130857</td><td>0.03086420 </td></tr>\n",
       "\t<tr><td>dreb       </td><td>0.005768458</td><td>0.008751711</td><td>0.02469136 </td></tr>\n",
       "</tbody>\n",
       "</table>\n"
      ],
      "text/latex": [
       "\\begin{tabular}{r|llll}\n",
       " Feature & Gain & Cover & Frequency\\\\\n",
       "\\hline\n",
       "\t ftm         & 0.415249671 & 0.255842656 & 0.16666667 \\\\\n",
       "\t oreb        & 0.126631588 & 0.193588935 & 0.14197531 \\\\\n",
       "\t blk         & 0.119155060 & 0.102190535 & 0.06790123 \\\\\n",
       "\t stl         & 0.112315394 & 0.110436504 & 0.12962963 \\\\\n",
       "\t fga         & 0.047361285 & 0.076573776 & 0.09876543 \\\\\n",
       "\t ast         & 0.040062965 & 0.098200722 & 0.08024691 \\\\\n",
       "\t pts         & 0.034931260 & 0.030866949 & 0.04938272 \\\\\n",
       "\t tov         & 0.029851156 & 0.039320964 & 0.06790123 \\\\\n",
       "\t x3pm        & 0.024529029 & 0.018079036 & 0.04320988 \\\\\n",
       "\t pf          & 0.018791296 & 0.024420565 & 0.03703704 \\\\\n",
       "\t x3pa        & 0.010497981 & 0.010678985 & 0.01851852 \\\\\n",
       "\t fgm         & 0.007862143 & 0.014917804 & 0.04320988 \\\\\n",
       "\t fta         & 0.006992714 & 0.016130857 & 0.03086420 \\\\\n",
       "\t dreb        & 0.005768458 & 0.008751711 & 0.02469136 \\\\\n",
       "\\end{tabular}\n"
      ],
      "text/markdown": [
       "\n",
       "| Feature | Gain | Cover | Frequency |\n",
       "|---|---|---|---|\n",
       "| ftm         | 0.415249671 | 0.255842656 | 0.16666667  |\n",
       "| oreb        | 0.126631588 | 0.193588935 | 0.14197531  |\n",
       "| blk         | 0.119155060 | 0.102190535 | 0.06790123  |\n",
       "| stl         | 0.112315394 | 0.110436504 | 0.12962963  |\n",
       "| fga         | 0.047361285 | 0.076573776 | 0.09876543  |\n",
       "| ast         | 0.040062965 | 0.098200722 | 0.08024691  |\n",
       "| pts         | 0.034931260 | 0.030866949 | 0.04938272  |\n",
       "| tov         | 0.029851156 | 0.039320964 | 0.06790123  |\n",
       "| x3pm        | 0.024529029 | 0.018079036 | 0.04320988  |\n",
       "| pf          | 0.018791296 | 0.024420565 | 0.03703704  |\n",
       "| x3pa        | 0.010497981 | 0.010678985 | 0.01851852  |\n",
       "| fgm         | 0.007862143 | 0.014917804 | 0.04320988  |\n",
       "| fta         | 0.006992714 | 0.016130857 | 0.03086420  |\n",
       "| dreb        | 0.005768458 | 0.008751711 | 0.02469136  |\n",
       "\n"
      ],
      "text/plain": [
       "   Feature Gain        Cover       Frequency \n",
       "1  ftm     0.415249671 0.255842656 0.16666667\n",
       "2  oreb    0.126631588 0.193588935 0.14197531\n",
       "3  blk     0.119155060 0.102190535 0.06790123\n",
       "4  stl     0.112315394 0.110436504 0.12962963\n",
       "5  fga     0.047361285 0.076573776 0.09876543\n",
       "6  ast     0.040062965 0.098200722 0.08024691\n",
       "7  pts     0.034931260 0.030866949 0.04938272\n",
       "8  tov     0.029851156 0.039320964 0.06790123\n",
       "9  x3pm    0.024529029 0.018079036 0.04320988\n",
       "10 pf      0.018791296 0.024420565 0.03703704\n",
       "11 x3pa    0.010497981 0.010678985 0.01851852\n",
       "12 fgm     0.007862143 0.014917804 0.04320988\n",
       "13 fta     0.006992714 0.016130857 0.03086420\n",
       "14 dreb    0.005768458 0.008751711 0.02469136"
      ]
     },
     "metadata": {},
     "output_type": "display_data"
    },
    {
     "name": "stdout",
     "output_type": "stream",
     "text": [
      "[1] \"With 'local' being re-labeled as 0, and 'foreign' being re-labled as 1\"\n"
     ]
    },
    {
     "data": {
      "text/plain": [
       "       test_label\n",
       "xgbpred  0  1\n",
       "      0 68  7\n",
       "      1  0  6"
      ]
     },
     "metadata": {},
     "output_type": "display_data"
    },
    {
     "name": "stdout",
     "output_type": "stream",
     "text": [
      "[1] \"Accuracy for test: 0.91358024691358\"\n"
     ]
    }
   ],
   "source": [
    "# Import Library\n",
    "sp(library(xgboost))\n",
    "\n",
    "# Preparing matrix\n",
    "train_label = as.matrix(ifelse(train$label==\"Local\",0,1))\n",
    "test_label = as.matrix(ifelse(test$label==\"Local\",0,1))\n",
    "train_data = data.matrix(train[,stats])\n",
    "test_data = data.matrix(test[,stats])\n",
    "dtrain <- xgb.DMatrix(data = train_data,label = train_label) \n",
    "dtest <- xgb.DMatrix(data = test_data,label=test_label)\n",
    "\n",
    "# default parameters\n",
    "params <- list(booster = \"gbtree\", objective = \"binary:logistic\", eta=0.3, gamma=0, max_depth=6, min_child_weight=1, subsample=1, colsample_bytree=1)\n",
    "\n",
    "# Fit model, predicting 'label' from all basic stats\n",
    "\n",
    "xgb <- xgb.train (params = params, data = dtrain, nrounds = 100,\n",
    "                  watchlist = list(val=dtest,train=dtrain), verbose = 0,\n",
    "                  early_stopping_rounds = 10, eval_metric = \"error\")\n",
    "print('Feature importance vector:')\n",
    "xgb.importance(feature_names = colnames(train_data),model = xgb)\n",
    "\n",
    "# Prediction (with threshold probability being set at 0.7)\n",
    "xgbpred <- predict (xgb,dtest)\n",
    "xgbpred <- ifelse (xgbpred > 0.7,1,0)\n",
    "\n",
    "# Accuracy Score\n",
    "print(\"With 'local' being re-labeled as 0, and 'foreign' being re-labled as 1\")\n",
    "xgb.mat <- table(xgbpred, test_label)\n",
    "xgb.mat\n",
    "xgb.acc <- sum(diag(xgb.mat)) / sum(xgb.mat)\n",
    "print(paste('Accuracy for test:', xgb.acc))"
   ]
  },
  {
   "cell_type": "markdown",
   "metadata": {},
   "source": [
    "# 7. SVM"
   ]
  },
  {
   "cell_type": "code",
   "execution_count": 8,
   "metadata": {},
   "outputs": [
    {
     "name": "stdout",
     "output_type": "stream",
     "text": [
      "[1] \"With 'local' being re-labeled as 0, and 'foreign' being re-labled as 1\"\n"
     ]
    },
    {
     "data": {
      "text/plain": [
       "        test_label\n",
       "svm.pred  0  1\n",
       "       0 67  4\n",
       "       1  1  9"
      ]
     },
     "metadata": {},
     "output_type": "display_data"
    },
    {
     "name": "stdout",
     "output_type": "stream",
     "text": [
      "[1] \"Accuracy for test: 0.938271604938272\"\n"
     ]
    }
   ],
   "source": [
    "# Train & Predict\n",
    "sp(library(e1071))\n",
    "svm.fit <- svm(train_data,train_label,type='C-classification',kernel = \"radial\", cost = 10, scale = TRUE)\n",
    "svm.pred <- predict(svm.fit,test_data)\n",
    "\n",
    "# Accuracy Score\n",
    "print(\"With 'local' being re-labeled as 0, and 'foreign' being re-labled as 1\")\n",
    "svm.mat <- table(svm.pred, test_label)\n",
    "svm.mat\n",
    "svm.acc <- sum(diag(svm.mat)) / sum(svm.mat)\n",
    "print(paste('Accuracy for test:', svm.acc))"
   ]
  },
  {
   "cell_type": "markdown",
   "metadata": {},
   "source": [
    "# 8. Plot all predictions"
   ]
  },
  {
   "cell_type": "code",
   "execution_count": 9,
   "metadata": {},
   "outputs": [
    {
     "data": {
      "image/png": "[encoded data removed]",
      "text/plain": [
       "plot without title"
      ]
     },
     "metadata": {},
     "output_type": "display_data"
    }
   ],
   "source": [
    "df19$dtc <- treepred\n",
    "df19$xgb <- ifelse (xgbpred== 0,\"Local\",\"Foreign\")\n",
    "df19$svm <- ifelse (svm.pred== 0,\"Local\",\"Foreign\")\n",
    "\n",
    "# Plot (SVM)\n",
    "p.svm <- ggbiplot(player.pca,ellipse=FALSE,labels=df19$no,groups=df19$svm,var.axes=FALSE) +\n",
    "    ggtitle(\"SVM\")\n",
    "\n",
    "# Plot (DTC)\n",
    "p.dtc <- ggbiplot(player.pca,ellipse=FALSE,labels=df19$no,groups=df19$dtc,var.axes=FALSE) +\n",
    "    ggtitle(\"DTC\")\n",
    "\n",
    "# Plot (XGB)\n",
    "p.xgb <- ggbiplot(player.pca,ellipse=FALSE,labels=df19$no,groups=df19$xgb,var.axes=FALSE) +\n",
    "    ggtitle(\"XGB\")\n",
    "\n",
    "# Plot all\n",
    "grid.arrange(p4,p.svm, p.dtc,p.xgb,nrow=2,ncol=2)"
   ]
  },
  {
   "cell_type": "code",
   "execution_count": 10,
   "metadata": {
    "scrolled": false
   },
   "outputs": [
    {
     "data": {
      "image/png": "[encoded data removed]",
      "text/plain": [
       "Plot with title \"Accuracy Comparison Between Models\""
      ]
     },
     "metadata": {},
     "output_type": "display_data"
    }
   ],
   "source": [
    "# Accuracy if all instances are labeled \"Local\"\n",
    "base.acc <- (1-sum(test_label)/dim(test_data))[1]\n",
    "acc <- c(base.acc, tree.acc,xgb.acc,svm.acc)\n",
    "barplot(acc, main=\"Accuracy Comparison Between Models\",\n",
    "   names.arg=c(\"Base\",\"DTC\",\"XGB\",\"SVM\"))"
   ]
  },
  {
   "cell_type": "markdown",
   "metadata": {},
   "source": [
    "# 9. PC Analysis of  Star & Superstar players"
   ]
  },
  {
   "cell_type": "code",
   "execution_count": 32,
   "metadata": {},
   "outputs": [
    {
     "name": "stdout",
     "output_type": "stream",
     "text": [
      "[1] \"No of stars per team in 2019:\"\n"
     ]
    },
    {
     "data": {
      "text/html": [
       "<table>\n",
       "<thead><tr><th scope=col>teamID</th><th scope=col>n</th></tr></thead>\n",
       "<tbody>\n",
       "\t<tr><td>CTC</td><td>6  </td></tr>\n",
       "\t<tr><td>DND</td><td>3  </td></tr>\n",
       "\t<tr><td>HCW</td><td>2  </td></tr>\n",
       "\t<tr><td>HNB</td><td>5  </td></tr>\n",
       "\t<tr><td>SGH</td><td>4  </td></tr>\n",
       "\t<tr><td>TLW</td><td>3  </td></tr>\n",
       "</tbody>\n",
       "</table>\n"
      ],
      "text/latex": [
       "\\begin{tabular}{r|ll}\n",
       " teamID & n\\\\\n",
       "\\hline\n",
       "\t CTC & 6  \\\\\n",
       "\t DND & 3  \\\\\n",
       "\t HCW & 2  \\\\\n",
       "\t HNB & 5  \\\\\n",
       "\t SGH & 4  \\\\\n",
       "\t TLW & 3  \\\\\n",
       "\\end{tabular}\n"
      ],
      "text/markdown": [
       "\n",
       "| teamID | n |\n",
       "|---|---|\n",
       "| CTC | 6   |\n",
       "| DND | 3   |\n",
       "| HCW | 2   |\n",
       "| HNB | 5   |\n",
       "| SGH | 4   |\n",
       "| TLW | 3   |\n",
       "\n"
      ],
      "text/plain": [
       "  teamID n\n",
       "1 CTC    6\n",
       "2 DND    3\n",
       "3 HCW    2\n",
       "4 HNB    5\n",
       "5 SGH    4\n",
       "6 TLW    3"
      ]
     },
     "metadata": {},
     "output_type": "display_data"
    },
    {
     "data": {
      "image/png": "[encoded data removed]",
      "text/plain": [
       "plot without title"
      ]
     },
     "metadata": {},
     "output_type": "display_data"
    }
   ],
   "source": [
    "df19$pc <- scale(player.pca$x[,\"PC1\"])\n",
    "# Select left half (more Foreign players -> more stars)\n",
    "stars <- subset(df19,pc < -0.5)\n",
    "print(\"No of stars per team in 2019:\")\n",
    "count(stars,teamID)\n",
    "stars.pca <- prcomp(stars[,stats],center = TRUE, scale. = TRUE)\n",
    "ggbiplot(stars.pca,ellipse=FALSE,var.axes=TRUE,labels=stars$no,groups=stars$team) +\n",
    "    ggtitle(\"PCA\") + geom_hline(yintercept=-0.5,linetype=\"dashed\", color = \"red\") +\n",
    "    geom_vline(xintercept=0,linetype=\"dashed\", color = \"red\")"
   ]
  },
  {
   "cell_type": "code",
   "execution_count": 49,
   "metadata": {},
   "outputs": [
    {
     "data": {
      "text/html": [
       "<table>\n",
       "<thead><tr><th></th><th scope=col>teamID</th><th scope=col>first_middle</th><th scope=col>last</th><th scope=col>pos1</th><th scope=col>height_cm</th><th scope=col>no</th><th scope=col>PER</th><th scope=col>label</th><th scope=col>dtc</th><th scope=col>xgb</th><th scope=col>svm</th></tr></thead>\n",
       "<tbody>\n",
       "\t<tr><th scope=row>198</th><td>HNB      </td><td>Michael  </td><td>Bell     </td><td>F        </td><td>206      </td><td> 6       </td><td>24.88415 </td><td>Foreign  </td><td>Foreign  </td><td>Foreign  </td><td>Foreign  </td></tr>\n",
       "\t<tr><th scope=row>179</th><td>TLW      </td><td>Zach     </td><td>Allmon   </td><td>F        </td><td>203      </td><td>23       </td><td>22.04217 </td><td>Foreign  </td><td>Foreign  </td><td>Local    </td><td>Foreign  </td></tr>\n",
       "\t<tr><th scope=row>217</th><td>DND      </td><td>Anthony  </td><td>January  </td><td>F        </td><td>203      </td><td>44       </td><td>21.44876 </td><td>Foreign  </td><td>Foreign  </td><td>Foreign  </td><td>Foreign  </td></tr>\n",
       "\t<tr><th scope=row>127</th><td>CTC      </td><td>Tam-Dinh </td><td>Thanh    </td><td>F        </td><td>192      </td><td>23       </td><td>20.59242 </td><td>Local    </td><td>Foreign  </td><td>Local    </td><td>Local    </td></tr>\n",
       "\t<tr><th scope=row>126</th><td>CTC      </td><td>DeAngelo </td><td>Hamilton </td><td>F        </td><td>203      </td><td> 1       </td><td>18.38678 </td><td>Foreign  </td><td>Foreign  </td><td>Foreign  </td><td>Foreign  </td></tr>\n",
       "\t<tr><th scope=row>131</th><td>CTC      </td><td>Michael  </td><td>Vigilance</td><td>F        </td><td>203      </td><td>34       </td><td>16.63392 </td><td>Foreign  </td><td>Foreign  </td><td>Foreign  </td><td>Foreign  </td></tr>\n",
       "\t<tr><th scope=row>95</th><td>SGH      </td><td>Tavarion </td><td>Nix      </td><td>PF       </td><td>201      </td><td> 3       </td><td>16.06750 </td><td>Foreign  </td><td>Foreign  </td><td>Foreign  </td><td>Foreign  </td></tr>\n",
       "</tbody>\n",
       "</table>\n"
      ],
      "text/latex": [
       "\\begin{tabular}{r|lllllllllll}\n",
       "  & teamID & first\\_middle & last & pos1 & height\\_cm & no & PER & label & dtc & xgb & svm\\\\\n",
       "\\hline\n",
       "\t198 & HNB       & Michael   & Bell      & F         & 206       &  6        & 24.88415  & Foreign   & Foreign   & Foreign   & Foreign  \\\\\n",
       "\t179 & TLW       & Zach      & Allmon    & F         & 203       & 23        & 22.04217  & Foreign   & Foreign   & Local     & Foreign  \\\\\n",
       "\t217 & DND       & Anthony   & January   & F         & 203       & 44        & 21.44876  & Foreign   & Foreign   & Foreign   & Foreign  \\\\\n",
       "\t127 & CTC       & Tam-Dinh  & Thanh     & F         & 192       & 23        & 20.59242  & Local     & Foreign   & Local     & Local    \\\\\n",
       "\t126 & CTC       & DeAngelo  & Hamilton  & F         & 203       &  1        & 18.38678  & Foreign   & Foreign   & Foreign   & Foreign  \\\\\n",
       "\t131 & CTC       & Michael   & Vigilance & F         & 203       & 34        & 16.63392  & Foreign   & Foreign   & Foreign   & Foreign  \\\\\n",
       "\t95 & SGH       & Tavarion  & Nix       & PF        & 201       &  3        & 16.06750  & Foreign   & Foreign   & Foreign   & Foreign  \\\\\n",
       "\\end{tabular}\n"
      ],
      "text/markdown": [
       "\n",
       "| <!--/--> | teamID | first_middle | last | pos1 | height_cm | no | PER | label | dtc | xgb | svm |\n",
       "|---|---|---|---|---|---|---|---|---|---|---|---|\n",
       "| 198 | HNB       | Michael   | Bell      | F         | 206       |  6        | 24.88415  | Foreign   | Foreign   | Foreign   | Foreign   |\n",
       "| 179 | TLW       | Zach      | Allmon    | F         | 203       | 23        | 22.04217  | Foreign   | Foreign   | Local     | Foreign   |\n",
       "| 217 | DND       | Anthony   | January   | F         | 203       | 44        | 21.44876  | Foreign   | Foreign   | Foreign   | Foreign   |\n",
       "| 127 | CTC       | Tam-Dinh  | Thanh     | F         | 192       | 23        | 20.59242  | Local     | Foreign   | Local     | Local     |\n",
       "| 126 | CTC       | DeAngelo  | Hamilton  | F         | 203       |  1        | 18.38678  | Foreign   | Foreign   | Foreign   | Foreign   |\n",
       "| 131 | CTC       | Michael   | Vigilance | F         | 203       | 34        | 16.63392  | Foreign   | Foreign   | Foreign   | Foreign   |\n",
       "| 95 | SGH       | Tavarion  | Nix       | PF        | 201       |  3        | 16.06750  | Foreign   | Foreign   | Foreign   | Foreign   |\n",
       "\n"
      ],
      "text/plain": [
       "    teamID first_middle last      pos1 height_cm no PER      label   dtc    \n",
       "198 HNB    Michael      Bell      F    206        6 24.88415 Foreign Foreign\n",
       "179 TLW    Zach         Allmon    F    203       23 22.04217 Foreign Foreign\n",
       "217 DND    Anthony      January   F    203       44 21.44876 Foreign Foreign\n",
       "127 CTC    Tam-Dinh     Thanh     F    192       23 20.59242 Local   Foreign\n",
       "126 CTC    DeAngelo     Hamilton  F    203        1 18.38678 Foreign Foreign\n",
       "131 CTC    Michael      Vigilance F    203       34 16.63392 Foreign Foreign\n",
       "95  SGH    Tavarion     Nix       PF   201        3 16.06750 Foreign Foreign\n",
       "    xgb     svm    \n",
       "198 Foreign Foreign\n",
       "179 Local   Foreign\n",
       "217 Foreign Foreign\n",
       "127 Local   Local  \n",
       "126 Foreign Foreign\n",
       "131 Foreign Foreign\n",
       "95  Foreign Foreign"
      ]
     },
     "metadata": {},
     "output_type": "display_data"
    }
   ],
   "source": [
    "best <- stars[,c(\"teamID\",\"first_middle\",\"last\",\"pos1\",\"height_cm\",\"no\",\"PER\",\"label\",\"dtc\",\"xgb\",\"svm\")]\n",
    "best <- head(best[order(-best$PER),],7)\n",
    "best"
   ]
  }
 ],
 "metadata": {
  "kernelspec": {
   "display_name": "R",
   "language": "R",
   "name": "ir"
  },
  "language_info": {
   "codemirror_mode": "r",
   "file_extension": ".r",
   "mimetype": "text/x-r-source",
   "name": "R",
   "pygments_lexer": "r",
   "version": "3.6.1"
  }
 },
 "nbformat": 4,
 "nbformat_minor": 2
}
