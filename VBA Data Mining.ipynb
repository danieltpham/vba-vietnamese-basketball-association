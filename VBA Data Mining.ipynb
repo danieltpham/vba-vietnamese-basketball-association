{
 "cells": [
  {
   "cell_type": "markdown",
   "metadata": {},
   "source": [
    "# 1. Set Up"
   ]
  },
  {
   "cell_type": "code",
   "execution_count": 1,
   "metadata": {},
   "outputs": [],
   "source": [
    "import pandas as pd\n",
    "import numpy as np\n",
    "import re\n",
    "from bs4 import BeautifulSoup\n",
    "from urllib.request import Request, urlopen"
   ]
  },
  {
   "cell_type": "code",
   "execution_count": 2,
   "metadata": {},
   "outputs": [
    {
     "name": "stdout",
     "output_type": "stream",
     "text": [
      "Input a year to scrape between 2016 - 2019: 2016\n"
     ]
    }
   ],
   "source": [
    "year = input(\"Input a year to scrape between 2017 - 2019: \")\n",
    "assert (year in ['2017','2018','2019']),\"Input year not in range\""
   ]
  },
  {
   "cell_type": "markdown",
   "metadata": {},
   "source": [
    "# 2. Get list of links to all games data"
   ]
  },
  {
   "cell_type": "code",
   "execution_count": 3,
   "metadata": {},
   "outputs": [],
   "source": [
    "url = 'https://www.asia-basket.com/Vietnam/games-schedule.asp?League=1&LName=VBA&year='+year\n",
    "req = Request(url, headers={'User-Agent': 'Mozilla/5.0'})\n",
    "web_byte = urlopen(req).read()\n",
    "html = web_byte.decode('utf-8')\n",
    "soup = BeautifulSoup(html, 'lxml')"
   ]
  },
  {
   "cell_type": "code",
   "execution_count": 4,
   "metadata": {},
   "outputs": [
    {
     "name": "stdout",
     "output_type": "stream",
     "text": [
      "List of 0 2016 VBA games scoreboard links:\n"
     ]
    },
    {
     "data": {
      "text/plain": [
       "[]"
      ]
     },
     "execution_count": 4,
     "metadata": {},
     "output_type": "execute_result"
    }
   ],
   "source": [
    "# get link list of all VBA games with the specified year\n",
    "link_list = []\n",
    "for a in soup.find_all('a', href=True): \n",
    "    if a.text and 'http://www.eurobasket.com/Basketball-Box-Score.asp?Game=' in a['href']:\n",
    "            link = a['href']\n",
    "            link_list.append(link)\n",
    "print(\"List of %d %s VBA games scoreboard links:\"%(len(link_list), year))\n",
    "link_list"
   ]
  },
  {
   "cell_type": "markdown",
   "metadata": {},
   "source": [
    "# 3. Build scrape functions\n",
    "\n",
    "2 different functions due to different XML format for 2019 and prior to 2019 (2017 & 2018)"
   ]
  },
  {
   "cell_type": "code",
   "execution_count": null,
   "metadata": {},
   "outputs": [],
   "source": [
    "# Used for 2019\n",
    "def game_scrape_2019(soup2):\n",
    "    # get team names\n",
    "    teams = []\n",
    "    for i in soup2.find_all('td',{'class':'my_top_center'}):\n",
    "        team_link = i.find_all('a')[0]['href']\n",
    "        k = len('https://basketball.eurobasket.com/team/Vietnam/')\n",
    "        teams.append(team_link[k:-6])\n",
    "    \n",
    "    # get round detail\n",
    "    r = re.search(r\"((Vietnam)(\\w*-\\w*)*(\\w+\\s)+\\d*)\",soup2.text)[0][7:].split(' ')\n",
    "    round_name = r[0]+' '+r[-1]\n",
    "    round_name\n",
    "\n",
    "    table_list = soup2.find_all('table',{'class':'my_Title'})\n",
    "    \n",
    "    # Iterate through 2 teams\n",
    "    for i in [0,1]:\n",
    "        df = pd.read_html(str(table_list[i]))[0]\n",
    "        df.columns = df.keys().droplevel() # Drop multi-level index\n",
    "\n",
    "        # Replace zero playing time\n",
    "        df = df.fillna(0)\n",
    "        df = df.replace(\"DNP - Coach's Decision\",0)\n",
    "        df = df.rename(columns={'AS':'AST','ST':'STL','OFF':'OREB','DEF':'DREB','F':'PF','FV':'BLK'})\n",
    "        df['#'] = df['#'].astype(int)\n",
    "\n",
    "        three_point = df['3PM-A'].str.split('-',n=1,expand=True).fillna(0)\n",
    "        df['3PM']=three_point[0].astype(int)\n",
    "        df['3PA']=three_point[1].astype(int)\n",
    "\n",
    "        free_throw = df['FTM-A'].str.split('-',n=1,expand=True).fillna(0)\n",
    "        df['FTM']=free_throw[0].astype(int)\n",
    "        df['FTA']=free_throw[1].astype(int)\n",
    "\n",
    "        two_point = df['2PM-A'].str.split('-',n=1,expand=True).fillna(0)\n",
    "        df['FGM']=two_point[0].astype(int)+df['3PM']\n",
    "        df['FGA']=two_point[1].astype(int)+df['3PA']\n",
    "\n",
    "        df['ROUND'] = round_name\n",
    "        df['TEAM'] = teams[i]\n",
    "        df['OPP'] = teams[i-1]\n",
    "\n",
    "        colnames = ['ROUND','TEAM','OPP','#','NAME','MIN','FGM','FGA','3PM','3PA','FTM','FTA','OREB','DREB','AST','STL','BLK','TO','PF','PTS']\n",
    "        for i in colnames:\n",
    "            if (i not in ['ROUND','TEAM','OPP','NAME']):\n",
    "                df[i] = df[i].astype(int)\n",
    "        df = df[colnames]\n",
    "        \n",
    "        # Separate total row\n",
    "        players = df[:-1]\n",
    "        team = df[-1:]\n",
    "        team = team.reset_index(drop=True)\n",
    "        team = team[colnames[0:3]+colnames[6:]]\n",
    "        \n",
    "        team_filename = 'vba'+year+'_team_data.csv'\n",
    "        player_filename = 'vba'+year+'_player_data.csv'\n",
    "    \n",
    "        with open(team_filename, 'a') as f:\n",
    "            team.to_csv(f, header=f.tell()==0)\n",
    "        with open(player_filename, 'a') as f:\n",
    "            players.to_csv(f, header=f.tell()==0)\n",
    "    return\n",
    "\n",
    "# Used for 2017 & 2018\n",
    "def game_scrape_2018(soup2):\n",
    "    teams = []\n",
    "    for i in soup2.find_all('td',{'class':'my_top_center'}):\n",
    "        team_link = i.find_all('a')[0]['href']\n",
    "        k = len('http://basketball.eurobasket.com/team/Vietnam/')\n",
    "        teams.append(team_link[k:-6])\n",
    "    \n",
    "    r = re.search(r\"((Vietnam)(\\w*-\\w*)*(\\w+\\s)+\\d*)\",soup2.text)[0][7:].split(' ')\n",
    "    round_name = r[0]+' '+r[-1]\n",
    "    round_name\n",
    "\n",
    "    table_list = soup2.find_all('table',{'class':'my_Title'})\n",
    "    \n",
    "    for i in [0,1]:\n",
    "        df = pd.read_html(str(table_list[i]),header=1)[0]\n",
    "\n",
    "        # Replace zero playing time\n",
    "        df = df.fillna(0)\n",
    "        df = df.replace(\"DNP - Coach's Decision\",0)\n",
    "        df = df.rename(columns={'AS':'AST','ST':'STL','OFF':'OREB','DEF':'DREB','CM':'PF','FV':'BLK'})\n",
    "        \n",
    "        # Process total row\n",
    "        df2 = df[-1:].drop('+/-',axis=1)\n",
    "        rename = {}\n",
    "        for j in range(len(df.keys())-1):\n",
    "            rename[df.keys()[j]] = df.keys()[j+1]\n",
    "        df2 = df2.rename(columns=rename)\n",
    "        df2['NAME'] = 'Total'\n",
    "        df2['#'] = 0\n",
    "        df = pd.concat([df[:-2],df2],sort=True)\n",
    "        \n",
    "        df['#'] = df['#'].astype(int)\n",
    "\n",
    "        three_point = df['3PM-A'].str.split('-',n=1,expand=True).fillna(0)\n",
    "        df['3PM']=three_point[0].astype(int)\n",
    "        df['3PA']=three_point[1].astype(int)\n",
    "\n",
    "        free_throw = df['FTM-A'].str.split('-',n=1,expand=True).fillna(0)\n",
    "        df['FTM']=free_throw[0].astype(int)\n",
    "        df['FTA']=free_throw[1].astype(int)\n",
    "\n",
    "        two_point = df['2PM-A'].str.split('-',n=1,expand=True).fillna(0)\n",
    "        df['FGM']=two_point[0].astype(int)+df['3PM']\n",
    "        df['FGA']=two_point[1].astype(int)+df['3PA']\n",
    "\n",
    "        df['ROUND'] = round_name\n",
    "        df['TEAM'] = teams[i]\n",
    "        df['OPP'] = teams[i-1]\n",
    "\n",
    "        colnames = ['ROUND','TEAM','OPP','#','NAME','MIN','FGM','FGA','3PM','3PA','FTM','FTA','OREB','DREB','AST','STL','BLK','TO','PF','PTS']\n",
    "        for i in colnames:\n",
    "            if (i not in ['ROUND','TEAM','OPP','NAME']):\n",
    "                df[i] = df[i].astype(int)\n",
    "        df = df[colnames]\n",
    "    \n",
    "        players = df[:-1]\n",
    "        team = df[-1:]\n",
    "        team = team.reset_index(drop=True)\n",
    "        team = team[colnames[0:3]+colnames[6:]]\n",
    "        \n",
    "        team_filename = 'vba'+year+'_team_data.csv'\n",
    "        player_filename = 'vba'+year+'_player_data.csv'\n",
    "    \n",
    "        with open(team_filename, 'a') as f:\n",
    "            team.to_csv(f, header=f.tell()==0)\n",
    "        with open(player_filename, 'a') as f:\n",
    "            players.to_csv(f, header=f.tell()==0)\n",
    "    return"
   ]
  },
  {
   "cell_type": "markdown",
   "metadata": {},
   "source": [
    "# 4. Scrape through link list"
   ]
  },
  {
   "cell_type": "code",
   "execution_count": null,
   "metadata": {},
   "outputs": [],
   "source": [
    "for link in link_list:\n",
    "    req = Request(link, headers={'User-Agent': 'Mozilla/5.0'})\n",
    "    web_byte = urlopen(req).read()\n",
    "    html = web_byte.decode('utf-8')\n",
    "    soup = BeautifulSoup(html, 'lxml')\n",
    "    if year == 2019:\n",
    "        game_scrape_2019(soup)\n",
    "    else:\n",
    "        game_scrape_2018(soup)\n",
    "    print(\"Completed: \"+link)"
   ]
  }
 ],
 "metadata": {
  "kernelspec": {
   "display_name": "Python 3",
   "language": "python",
   "name": "python3"
  },
  "language_info": {
   "codemirror_mode": {
    "name": "ipython",
    "version": 3
   },
   "file_extension": ".py",
   "mimetype": "text/x-python",
   "name": "python",
   "nbconvert_exporter": "python",
   "pygments_lexer": "ipython3",
   "version": "3.6.8"
  }
 },
 "nbformat": 4,
 "nbformat_minor": 2
}
